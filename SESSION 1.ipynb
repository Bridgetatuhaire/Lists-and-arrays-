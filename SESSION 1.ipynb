{
 "cells": [
  {
   "cell_type": "markdown",
   "metadata": {},
   "source": [
    "CREATING A LIST OF 4 ELEMENTS"
   ]
  },
  {
   "cell_type": "code",
   "execution_count": 1,
   "metadata": {},
   "outputs": [
    {
     "name": "stdout",
     "output_type": "stream",
     "text": [
      "<class 'list'>\n",
      "4\n"
     ]
    }
   ],
   "source": [
    "a = [1,2,3,4] #creating a list of numbers\n",
    "print(type(a)) #print datatype of x\n",
    "print(len(a)) #print length of elements "
   ]
  },
  {
   "cell_type": "markdown",
   "metadata": {},
   "source": [
    "CREATING THE LISTS OF KFC AND CJ"
   ]
  },
  {
   "cell_type": "code",
   "execution_count": null,
   "metadata": {},
   "outputs": [],
   "source": [
    "cj = [9.99, 7.99, 7.49, 7.00, 6.29, 4.99] #cj list"
   ]
  },
  {
   "cell_type": "code",
   "execution_count": 27,
   "metadata": {},
   "outputs": [],
   "source": [
    "kfc = [7.5, 5.0, 4.4, 3.75, 2.25] #kfc list"
   ]
  },
  {
   "cell_type": "code",
   "execution_count": 38,
   "metadata": {},
   "outputs": [
    {
     "name": "stdout",
     "output_type": "stream",
     "text": [
      "[9.99, 7.99, 7.49, 7.0, 6.29, 4.99, 7.5, 5.0, 4.4, 3.75, 2.25]\n"
     ]
    }
   ],
   "source": [
    "#concenating the two lists\n",
    "kfc = [7.5, 5.0, 4.4, 3.75, 2.25] #kfc list\n",
    "cj = [9.99, 7.99, 7.49, 7.00, 6.29, 4.99] #cj list\n",
    "print(cj+kfc) #adding the two lists\n",
    "\n"
   ]
  },
  {
   "cell_type": "code",
   "execution_count": 45,
   "metadata": {},
   "outputs": [
    {
     "ename": "TypeError",
     "evalue": "unsupported operand type(s) for -: 'list' and 'list'",
     "output_type": "error",
     "traceback": [
      "\u001b[1;31m---------------------------------------------------------------------------\u001b[0m",
      "\u001b[1;31mTypeError\u001b[0m                                 Traceback (most recent call last)",
      "\u001b[1;32me:\\WITU\\SEMETER 1 YEAR ONE\\INTRODUCTION TO DATA SCIENCE AND MACHINE LEARNING\\Practicals\\practical 2 12-09-2023\\SESSION 1.ipynb Cell 7\u001b[0m line \u001b[0;36m5\n\u001b[0;32m      <a href='vscode-notebook-cell:/e%3A/WITU/SEMETER%201%20YEAR%20ONE/INTRODUCTION%20TO%20DATA%20SCIENCE%20AND%20MACHINE%20LEARNING/Practicals/practical%202%2012-09-2023/SESSION%201.ipynb#X21sZmlsZQ%3D%3D?line=1'>2</a>\u001b[0m kfc \u001b[39m=\u001b[39m [\u001b[39m7.5\u001b[39m, \u001b[39m5.0\u001b[39m, \u001b[39m4.4\u001b[39m, \u001b[39m3.75\u001b[39m, \u001b[39m2.25\u001b[39m] \u001b[39m#kfc list\u001b[39;00m\n\u001b[0;32m      <a href='vscode-notebook-cell:/e%3A/WITU/SEMETER%201%20YEAR%20ONE/INTRODUCTION%20TO%20DATA%20SCIENCE%20AND%20MACHINE%20LEARNING/Practicals/practical%202%2012-09-2023/SESSION%201.ipynb#X21sZmlsZQ%3D%3D?line=2'>3</a>\u001b[0m cj \u001b[39m=\u001b[39m [\u001b[39m9.99\u001b[39m, \u001b[39m7.99\u001b[39m, \u001b[39m7.49\u001b[39m, \u001b[39m7.00\u001b[39m, \u001b[39m6.29\u001b[39m, \u001b[39m4.99\u001b[39m] \u001b[39m#cj list\u001b[39;00m\n\u001b[1;32m----> <a href='vscode-notebook-cell:/e%3A/WITU/SEMETER%201%20YEAR%20ONE/INTRODUCTION%20TO%20DATA%20SCIENCE%20AND%20MACHINE%20LEARNING/Practicals/practical%202%2012-09-2023/SESSION%201.ipynb#X21sZmlsZQ%3D%3D?line=4'>5</a>\u001b[0m \u001b[39mprint\u001b[39m(cj\u001b[39m-\u001b[39;49mkfc)\n",
      "\u001b[1;31mTypeError\u001b[0m: unsupported operand type(s) for -: 'list' and 'list'"
     ]
    }
   ],
   "source": [
    "#subtracting the two lists\n",
    "kfc = [7.5, 5.0, 4.4, 3.75, 2.25] #kfc list\n",
    "cj = [9.99, 7.99, 7.49, 7.00, 6.29, 4.99] #cj list\n",
    "\n",
    "print(cj-kfc)\n"
   ]
  },
  {
   "cell_type": "code",
   "execution_count": 33,
   "metadata": {},
   "outputs": [
    {
     "name": "stdout",
     "output_type": "stream",
     "text": [
      "<class 'list'>\n",
      "<class 'list'>\n",
      "6\n",
      "5\n"
     ]
    }
   ],
   "source": [
    "cj = [9.99, 7.99, 7.49, 7.00, 6.29, 4.99] #cj list\n",
    "kfc = [7.5, 5.0, 4.4, 3.75, 2.25] #kfc list\n",
    "print(type(cj)) #print datatype of cj\n",
    "print(type(kfc)) #print datatype of kfc\n",
    "print(len(cj)) #print length of elements in cj\n",
    "print(len(kfc)) #print length of elements in kfc\n",
    "\n"
   ]
  },
  {
   "cell_type": "markdown",
   "metadata": {},
   "source": [
    "converting a list into an array"
   ]
  },
  {
   "cell_type": "code",
   "execution_count": 4,
   "metadata": {},
   "outputs": [],
   "source": [
    "import numpy as np"
   ]
  },
  {
   "cell_type": "code",
   "execution_count": 24,
   "metadata": {},
   "outputs": [
    {
     "name": "stdout",
     "output_type": "stream",
     "text": [
      "float64\n"
     ]
    }
   ],
   "source": [
    "#creating cj array\n",
    "cj_array = np.array ([9.99, 7.99, 7.49, 7.00, 6.29]) #cj array\n",
    "print(cj_array.dtype) #printing the datatype of the array"
   ]
  },
  {
   "cell_type": "code",
   "execution_count": 22,
   "metadata": {},
   "outputs": [
    {
     "name": "stdout",
     "output_type": "stream",
     "text": [
      "float64\n"
     ]
    }
   ],
   "source": [
    "#creating kfc array\n",
    "kfc_array = np.array ([7.5, 5.0, 4.4, 3.75, 2.25]) #kfc array\n",
    "print(kfc_array.dtype) #printing the datatype of the array"
   ]
  },
  {
   "cell_type": "markdown",
   "metadata": {},
   "source": [
    "Creating differences between arrays"
   ]
  },
  {
   "cell_type": "code",
   "execution_count": 29,
   "metadata": {},
   "outputs": [
    {
     "name": "stdout",
     "output_type": "stream",
     "text": [
      "[2.49 2.99 3.09 3.25 4.04]\n"
     ]
    }
   ],
   "source": [
    "difference = (cj_array - kfc_array)\n",
    "print(difference)"
   ]
  },
  {
   "cell_type": "markdown",
   "metadata": {},
   "source": [
    "calculating mean"
   ]
  },
  {
   "cell_type": "code",
   "execution_count": 30,
   "metadata": {},
   "outputs": [
    {
     "name": "stdout",
     "output_type": "stream",
     "text": [
      "3.1719999999999997\n"
     ]
    }
   ],
   "source": [
    "print(np.mean(difference)) #calculating mean of the difference between the arrays\n"
   ]
  },
  {
   "cell_type": "code",
   "execution_count": 36,
   "metadata": {},
   "outputs": [
    {
     "name": "stdout",
     "output_type": "stream",
     "text": [
      "3.1719999999999997\n"
     ]
    }
   ],
   "source": [
    "#another way of calculating the mean difference\n",
    "print(np.mean(cj_array-kfc_array))"
   ]
  },
  {
   "cell_type": "markdown",
   "metadata": {},
   "source": [
    "Finding standard deviation and  variance\n"
   ]
  },
  {
   "cell_type": "code",
   "execution_count": 41,
   "metadata": {},
   "outputs": [
    {
     "name": "stdout",
     "output_type": "stream",
     "text": [
      "0.502887661411572\n",
      "1.251948880745536\n",
      "1.7235428628264513\n"
     ]
    }
   ],
   "source": [
    "#finding standard deviation (measuring how the two things vary)\n",
    "print(np.std(difference))\n",
    "print(np.std(cj_array))\n",
    "print(np.std(kfc_array))"
   ]
  },
  {
   "cell_type": "code",
   "execution_count": 43,
   "metadata": {},
   "outputs": [
    {
     "name": "stdout",
     "output_type": "stream",
     "text": [
      "0.25289599999999995\n",
      "1.5673760000000003\n",
      "2.9705999999999997\n"
     ]
    }
   ],
   "source": [
    "#finding variance\n",
    "print(np.var(difference))\n",
    "print(np.var(cj_array))\n",
    "print(np.var(kfc_array))"
   ]
  }
 ],
 "metadata": {
  "kernelspec": {
   "display_name": "Python 3",
   "language": "python",
   "name": "python3"
  },
  "language_info": {
   "codemirror_mode": {
    "name": "ipython",
    "version": 3
   },
   "file_extension": ".py",
   "mimetype": "text/x-python",
   "name": "python",
   "nbconvert_exporter": "python",
   "pygments_lexer": "ipython3",
   "version": "3.11.4"
  },
  "orig_nbformat": 4
 },
 "nbformat": 4,
 "nbformat_minor": 2
}
